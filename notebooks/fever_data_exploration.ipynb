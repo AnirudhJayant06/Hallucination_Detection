{
 "cells": [
  {
   "cell_type": "markdown",
   "id": "70ffe8f0",
   "metadata": {},
   "source": [
    "# 1. Imports"
   ]
  },
  {
   "cell_type": "code",
   "execution_count": 3,
   "id": "7dba2cc9",
   "metadata": {},
   "outputs": [],
   "source": [
    "import os\n",
    "import pandas as pd\n",
    "import seaborn as sns\n",
    "import matplotlib.pyplot as plt"
   ]
  },
  {
   "cell_type": "markdown",
   "id": "1b5fa6a7",
   "metadata": {},
   "source": [
    "# 2. Methods"
   ]
  },
  {
   "cell_type": "markdown",
   "id": "89db6b13",
   "metadata": {},
   "source": [
    "## Loading Datasets"
   ]
  },
  {
   "cell_type": "code",
   "execution_count": 4,
   "id": "e465fb58",
   "metadata": {},
   "outputs": [],
   "source": [
    "def get_dataset_dataframe(dataset_folder_name, dataset_sub_folder_name, dataset_file_name):\n",
    "    # Move up from /notebooks → /Thesis\n",
    "    base_dir = os.path.dirname(os.getcwd())\n",
    "\n",
    "    # Full path to your .jsonl file\n",
    "    file_path = os.path.join(base_dir, \"datasets\", dataset_folder_name, dataset_sub_folder_name, dataset_file_name)\n",
    "\n",
    "    # Confirm the file is there\n",
    "    print(\"Reading from:\", file_path)\n",
    "\n",
    "    # Load with pandas (must use lines=True for .jsonl format)\n",
    "    df = pd.read_json(file_path, lines=True)\n",
    "\n",
    "    return df"
   ]
  },
  {
   "cell_type": "markdown",
   "id": "0d407aa8",
   "metadata": {},
   "source": [
    "## Null Counter"
   ]
  },
  {
   "cell_type": "code",
   "execution_count": 5,
   "id": "dcac7797",
   "metadata": {},
   "outputs": [],
   "source": [
    "def count_nulls_in_column(df):\n",
    "    return df[df.columns].isnull().sum()"
   ]
  },
  {
   "cell_type": "markdown",
   "id": "0ad2e526",
   "metadata": {},
   "source": [
    "## CountPlot"
   ]
  },
  {
   "cell_type": "code",
   "execution_count": 14,
   "id": "c6ea0383",
   "metadata": {},
   "outputs": [],
   "source": [
    "def getcountplot(dataframe, column_name, dataset_name):    \n",
    "    plt.figure(figsize=(6, 4))\n",
    "    ax = sns.countplot(data=dataframe, x=column_name)\n",
    "\n",
    "    # Calculate total count for percent calculation\n",
    "    total = len(dataframe)\n",
    "\n",
    "    # Add percentage labels\n",
    "    for p in ax.patches:\n",
    "        count = p.get_height()\n",
    "        percentage = 100 * count / total\n",
    "        x = p.get_x() + p.get_width() / 2\n",
    "        y = p.get_height()\n",
    "        ax.text(x, y + 1, f'{percentage:.1f}%', ha='center', va='bottom', fontweight='bold')\n",
    "\n",
    "    # Labels and title\n",
    "    plt.title(f\"Count of {column_name} Values in {dataset_name}\")\n",
    "    plt.xlabel(column_name)\n",
    "    plt.ylabel(\"Count\")\n",
    "    plt.tight_layout()\n",
    "    plt.show()"
   ]
  },
  {
   "cell_type": "markdown",
   "id": "14674384",
   "metadata": {},
   "source": [
    "# 3. Code"
   ]
  },
  {
   "cell_type": "markdown",
   "id": "d28b73ce",
   "metadata": {},
   "source": [
    "## Raw FEVER Data"
   ]
  },
  {
   "cell_type": "code",
   "execution_count": null,
   "id": "369af989",
   "metadata": {},
   "outputs": [
    {
     "name": "stdout",
     "output_type": "stream",
     "text": [
      "Reading from: e:\\Users\\Anirudh\\Study\\MS\\Implementation\\Thesis\\datasets\\FEVER\\raw\\train.jsonl\n"
     ]
    },
    {
     "data": {
      "text/html": [
       "<div>\n",
       "<style scoped>\n",
       "    .dataframe tbody tr th:only-of-type {\n",
       "        vertical-align: middle;\n",
       "    }\n",
       "\n",
       "    .dataframe tbody tr th {\n",
       "        vertical-align: top;\n",
       "    }\n",
       "\n",
       "    .dataframe thead th {\n",
       "        text-align: right;\n",
       "    }\n",
       "</style>\n",
       "<table border=\"1\" class=\"dataframe\">\n",
       "  <thead>\n",
       "    <tr style=\"text-align: right;\">\n",
       "      <th></th>\n",
       "      <th>id</th>\n",
       "      <th>verifiable</th>\n",
       "      <th>label</th>\n",
       "      <th>claim</th>\n",
       "      <th>evidence</th>\n",
       "    </tr>\n",
       "  </thead>\n",
       "  <tbody>\n",
       "    <tr>\n",
       "      <th>0</th>\n",
       "      <td>75397</td>\n",
       "      <td>VERIFIABLE</td>\n",
       "      <td>SUPPORTS</td>\n",
       "      <td>Nikolaj Coster-Waldau worked with the Fox Broa...</td>\n",
       "      <td>[[[92206, 104971, Nikolaj_Coster-Waldau, 7], [...</td>\n",
       "    </tr>\n",
       "    <tr>\n",
       "      <th>1</th>\n",
       "      <td>150448</td>\n",
       "      <td>VERIFIABLE</td>\n",
       "      <td>SUPPORTS</td>\n",
       "      <td>Roman Atwood is a content creator.</td>\n",
       "      <td>[[[174271, 187498, Roman_Atwood, 1]], [[174271...</td>\n",
       "    </tr>\n",
       "    <tr>\n",
       "      <th>2</th>\n",
       "      <td>214861</td>\n",
       "      <td>VERIFIABLE</td>\n",
       "      <td>SUPPORTS</td>\n",
       "      <td>History of art includes architecture, dance, s...</td>\n",
       "      <td>[[[255136, 254645, History_of_art, 2]]]</td>\n",
       "    </tr>\n",
       "    <tr>\n",
       "      <th>3</th>\n",
       "      <td>156709</td>\n",
       "      <td>VERIFIABLE</td>\n",
       "      <td>REFUTES</td>\n",
       "      <td>Adrienne Bailon is an accountant.</td>\n",
       "      <td>[[[180804, 193183, Adrienne_Bailon, 0]]]</td>\n",
       "    </tr>\n",
       "    <tr>\n",
       "      <th>4</th>\n",
       "      <td>83235</td>\n",
       "      <td>NOT VERIFIABLE</td>\n",
       "      <td>NOT ENOUGH INFO</td>\n",
       "      <td>System of a Down briefly disbanded in limbo.</td>\n",
       "      <td>[[[100277, None, None, None]]]</td>\n",
       "    </tr>\n",
       "  </tbody>\n",
       "</table>\n",
       "</div>"
      ],
      "text/plain": [
       "       id      verifiable            label  \\\n",
       "0   75397      VERIFIABLE         SUPPORTS   \n",
       "1  150448      VERIFIABLE         SUPPORTS   \n",
       "2  214861      VERIFIABLE         SUPPORTS   \n",
       "3  156709      VERIFIABLE          REFUTES   \n",
       "4   83235  NOT VERIFIABLE  NOT ENOUGH INFO   \n",
       "\n",
       "                                               claim  \\\n",
       "0  Nikolaj Coster-Waldau worked with the Fox Broa...   \n",
       "1                 Roman Atwood is a content creator.   \n",
       "2  History of art includes architecture, dance, s...   \n",
       "3                  Adrienne Bailon is an accountant.   \n",
       "4       System of a Down briefly disbanded in limbo.   \n",
       "\n",
       "                                            evidence  \n",
       "0  [[[92206, 104971, Nikolaj_Coster-Waldau, 7], [...  \n",
       "1  [[[174271, 187498, Roman_Atwood, 1]], [[174271...  \n",
       "2            [[[255136, 254645, History_of_art, 2]]]  \n",
       "3           [[[180804, 193183, Adrienne_Bailon, 0]]]  \n",
       "4                     [[[100277, None, None, None]]]  "
      ]
     },
     "execution_count": 17,
     "metadata": {},
     "output_type": "execute_result"
    }
   ],
   "source": [
    "fever_train_df = get_dataset_dataframe(\"FEVER\", \"raw\", \"train.jsonl\")\n",
    "fever_train_df.head()"
   ]
  },
  {
   "cell_type": "code",
   "execution_count": 22,
   "id": "ab9d9f9a",
   "metadata": {},
   "outputs": [
    {
     "data": {
      "text/plain": [
       "(145449, 5)"
      ]
     },
     "execution_count": 22,
     "metadata": {},
     "output_type": "execute_result"
    }
   ],
   "source": [
    "fever_train_df.shape"
   ]
  },
  {
   "cell_type": "code",
   "execution_count": 29,
   "id": "1f303327",
   "metadata": {},
   "outputs": [
    {
     "data": {
      "text/plain": [
       "id            0\n",
       "verifiable    0\n",
       "label         0\n",
       "claim         0\n",
       "evidence      0\n",
       "dtype: int64"
      ]
     },
     "execution_count": 29,
     "metadata": {},
     "output_type": "execute_result"
    }
   ],
   "source": [
    "fever_train_null_counter = count_nulls_in_column(fever_train_df)\n",
    "fever_train_null_counter"
   ]
  },
  {
   "cell_type": "code",
   "execution_count": null,
   "id": "cb1e468e",
   "metadata": {},
   "outputs": [
    {
     "name": "stdout",
     "output_type": "stream",
     "text": [
      "Reading from: e:\\Users\\Anirudh\\Study\\MS\\Implementation\\Thesis\\datasets\\FEVER\\raw\\paper_test.jsonl\n"
     ]
    },
    {
     "data": {
      "text/html": [
       "<div>\n",
       "<style scoped>\n",
       "    .dataframe tbody tr th:only-of-type {\n",
       "        vertical-align: middle;\n",
       "    }\n",
       "\n",
       "    .dataframe tbody tr th {\n",
       "        vertical-align: top;\n",
       "    }\n",
       "\n",
       "    .dataframe thead th {\n",
       "        text-align: right;\n",
       "    }\n",
       "</style>\n",
       "<table border=\"1\" class=\"dataframe\">\n",
       "  <thead>\n",
       "    <tr style=\"text-align: right;\">\n",
       "      <th></th>\n",
       "      <th>id</th>\n",
       "      <th>verifiable</th>\n",
       "      <th>label</th>\n",
       "      <th>claim</th>\n",
       "      <th>evidence</th>\n",
       "    </tr>\n",
       "  </thead>\n",
       "  <tbody>\n",
       "    <tr>\n",
       "      <th>0</th>\n",
       "      <td>113501</td>\n",
       "      <td>NOT VERIFIABLE</td>\n",
       "      <td>NOT ENOUGH INFO</td>\n",
       "      <td>Grease had bad reviews.</td>\n",
       "      <td>[[[133128, None, None, None]]]</td>\n",
       "    </tr>\n",
       "    <tr>\n",
       "      <th>1</th>\n",
       "      <td>163803</td>\n",
       "      <td>VERIFIABLE</td>\n",
       "      <td>SUPPORTS</td>\n",
       "      <td>Ukrainian Soviet Socialist Republic was a foun...</td>\n",
       "      <td>[[[296950, 288668, Ukrainian_Soviet_Socialist_...</td>\n",
       "    </tr>\n",
       "    <tr>\n",
       "      <th>2</th>\n",
       "      <td>70041</td>\n",
       "      <td>VERIFIABLE</td>\n",
       "      <td>SUPPORTS</td>\n",
       "      <td>2 Hearts is a musical composition by Minogue.</td>\n",
       "      <td>[[[225394, 230056, 2_Hearts_-LRB-Kylie_Minogue...</td>\n",
       "    </tr>\n",
       "    <tr>\n",
       "      <th>3</th>\n",
       "      <td>202314</td>\n",
       "      <td>VERIFIABLE</td>\n",
       "      <td>REFUTES</td>\n",
       "      <td>The New Jersey Turnpike has zero shoulders.</td>\n",
       "      <td>[[[238335, 240393, New_Jersey_Turnpike, 15]]]</td>\n",
       "    </tr>\n",
       "    <tr>\n",
       "      <th>4</th>\n",
       "      <td>57085</td>\n",
       "      <td>NOT VERIFIABLE</td>\n",
       "      <td>NOT ENOUGH INFO</td>\n",
       "      <td>Legendary Entertainment is the owner of Wanda ...</td>\n",
       "      <td>[[[178035, None, None, None], [182093, None, N...</td>\n",
       "    </tr>\n",
       "  </tbody>\n",
       "</table>\n",
       "</div>"
      ],
      "text/plain": [
       "       id      verifiable            label  \\\n",
       "0  113501  NOT VERIFIABLE  NOT ENOUGH INFO   \n",
       "1  163803      VERIFIABLE         SUPPORTS   \n",
       "2   70041      VERIFIABLE         SUPPORTS   \n",
       "3  202314      VERIFIABLE          REFUTES   \n",
       "4   57085  NOT VERIFIABLE  NOT ENOUGH INFO   \n",
       "\n",
       "                                               claim  \\\n",
       "0                            Grease had bad reviews.   \n",
       "1  Ukrainian Soviet Socialist Republic was a foun...   \n",
       "2      2 Hearts is a musical composition by Minogue.   \n",
       "3        The New Jersey Turnpike has zero shoulders.   \n",
       "4  Legendary Entertainment is the owner of Wanda ...   \n",
       "\n",
       "                                            evidence  \n",
       "0                     [[[133128, None, None, None]]]  \n",
       "1  [[[296950, 288668, Ukrainian_Soviet_Socialist_...  \n",
       "2  [[[225394, 230056, 2_Hearts_-LRB-Kylie_Minogue...  \n",
       "3      [[[238335, 240393, New_Jersey_Turnpike, 15]]]  \n",
       "4  [[[178035, None, None, None], [182093, None, N...  "
      ]
     },
     "execution_count": 18,
     "metadata": {},
     "output_type": "execute_result"
    }
   ],
   "source": [
    "fever_paper_test_df = get_dataset_dataframe(\"FEVER\", \"raw\", \"paper_test.jsonl\")\n",
    "fever_paper_test_df.head()"
   ]
  },
  {
   "cell_type": "code",
   "execution_count": 21,
   "id": "5bfdcfd3",
   "metadata": {},
   "outputs": [
    {
     "data": {
      "text/plain": [
       "(9999, 5)"
      ]
     },
     "execution_count": 21,
     "metadata": {},
     "output_type": "execute_result"
    }
   ],
   "source": [
    "fever_paper_test_df.shape"
   ]
  },
  {
   "cell_type": "code",
   "execution_count": 28,
   "id": "593409c0",
   "metadata": {},
   "outputs": [
    {
     "data": {
      "text/plain": [
       "id            0\n",
       "verifiable    0\n",
       "label         0\n",
       "claim         0\n",
       "evidence      0\n",
       "dtype: int64"
      ]
     },
     "execution_count": 28,
     "metadata": {},
     "output_type": "execute_result"
    }
   ],
   "source": [
    "fever_paper_test_null_counter = count_nulls_in_column(fever_paper_test_df)\n",
    "fever_paper_test_null_counter"
   ]
  },
  {
   "cell_type": "code",
   "execution_count": null,
   "id": "0863f7d8",
   "metadata": {},
   "outputs": [
    {
     "name": "stdout",
     "output_type": "stream",
     "text": [
      "Reading from: e:\\Users\\Anirudh\\Study\\MS\\Implementation\\Thesis\\datasets\\FEVER\\raw\\paper_dev.jsonl\n"
     ]
    },
    {
     "data": {
      "text/html": [
       "<div>\n",
       "<style scoped>\n",
       "    .dataframe tbody tr th:only-of-type {\n",
       "        vertical-align: middle;\n",
       "    }\n",
       "\n",
       "    .dataframe tbody tr th {\n",
       "        vertical-align: top;\n",
       "    }\n",
       "\n",
       "    .dataframe thead th {\n",
       "        text-align: right;\n",
       "    }\n",
       "</style>\n",
       "<table border=\"1\" class=\"dataframe\">\n",
       "  <thead>\n",
       "    <tr style=\"text-align: right;\">\n",
       "      <th></th>\n",
       "      <th>id</th>\n",
       "      <th>verifiable</th>\n",
       "      <th>label</th>\n",
       "      <th>claim</th>\n",
       "      <th>evidence</th>\n",
       "    </tr>\n",
       "  </thead>\n",
       "  <tbody>\n",
       "    <tr>\n",
       "      <th>0</th>\n",
       "      <td>91198</td>\n",
       "      <td>NOT VERIFIABLE</td>\n",
       "      <td>NOT ENOUGH INFO</td>\n",
       "      <td>Colin Kaepernick became a starting quarterback...</td>\n",
       "      <td>[[[108548, None, None, None]]]</td>\n",
       "    </tr>\n",
       "    <tr>\n",
       "      <th>1</th>\n",
       "      <td>194462</td>\n",
       "      <td>NOT VERIFIABLE</td>\n",
       "      <td>NOT ENOUGH INFO</td>\n",
       "      <td>Tilda Swinton is a vegan.</td>\n",
       "      <td>[[[227768, None, None, None]]]</td>\n",
       "    </tr>\n",
       "    <tr>\n",
       "      <th>2</th>\n",
       "      <td>137334</td>\n",
       "      <td>VERIFIABLE</td>\n",
       "      <td>SUPPORTS</td>\n",
       "      <td>Fox 2000 Pictures released the film Soul Food.</td>\n",
       "      <td>[[[289914, 283015, Soul_Food_-LRB-film-RRB-, 0...</td>\n",
       "    </tr>\n",
       "    <tr>\n",
       "      <th>3</th>\n",
       "      <td>166626</td>\n",
       "      <td>NOT VERIFIABLE</td>\n",
       "      <td>NOT ENOUGH INFO</td>\n",
       "      <td>Anne Rice was born in New Jersey.</td>\n",
       "      <td>[[[191656, None, None, None], [191657, None, N...</td>\n",
       "    </tr>\n",
       "    <tr>\n",
       "      <th>4</th>\n",
       "      <td>111897</td>\n",
       "      <td>VERIFIABLE</td>\n",
       "      <td>REFUTES</td>\n",
       "      <td>Telemundo is a English-language television net...</td>\n",
       "      <td>[[[131371, 146144, Telemundo, 0]], [[131371, 1...</td>\n",
       "    </tr>\n",
       "  </tbody>\n",
       "</table>\n",
       "</div>"
      ],
      "text/plain": [
       "       id      verifiable            label  \\\n",
       "0   91198  NOT VERIFIABLE  NOT ENOUGH INFO   \n",
       "1  194462  NOT VERIFIABLE  NOT ENOUGH INFO   \n",
       "2  137334      VERIFIABLE         SUPPORTS   \n",
       "3  166626  NOT VERIFIABLE  NOT ENOUGH INFO   \n",
       "4  111897      VERIFIABLE          REFUTES   \n",
       "\n",
       "                                               claim  \\\n",
       "0  Colin Kaepernick became a starting quarterback...   \n",
       "1                          Tilda Swinton is a vegan.   \n",
       "2     Fox 2000 Pictures released the film Soul Food.   \n",
       "3                  Anne Rice was born in New Jersey.   \n",
       "4  Telemundo is a English-language television net...   \n",
       "\n",
       "                                            evidence  \n",
       "0                     [[[108548, None, None, None]]]  \n",
       "1                     [[[227768, None, None, None]]]  \n",
       "2  [[[289914, 283015, Soul_Food_-LRB-film-RRB-, 0...  \n",
       "3  [[[191656, None, None, None], [191657, None, N...  \n",
       "4  [[[131371, 146144, Telemundo, 0]], [[131371, 1...  "
      ]
     },
     "execution_count": 19,
     "metadata": {},
     "output_type": "execute_result"
    }
   ],
   "source": [
    "fever_paper_dev_df = get_dataset_dataframe(\"FEVER\", \"raw\", \"paper_dev.jsonl\")\n",
    "fever_paper_dev_df.head()"
   ]
  },
  {
   "cell_type": "code",
   "execution_count": 20,
   "id": "04bc2d4b",
   "metadata": {},
   "outputs": [
    {
     "data": {
      "text/plain": [
       "(9999, 5)"
      ]
     },
     "execution_count": 20,
     "metadata": {},
     "output_type": "execute_result"
    }
   ],
   "source": [
    "fever_paper_dev_df.shape"
   ]
  },
  {
   "cell_type": "code",
   "execution_count": 27,
   "id": "e780c6c4",
   "metadata": {},
   "outputs": [
    {
     "data": {
      "text/plain": [
       "id            0\n",
       "verifiable    0\n",
       "label         0\n",
       "claim         0\n",
       "evidence      0\n",
       "dtype: int64"
      ]
     },
     "execution_count": 27,
     "metadata": {},
     "output_type": "execute_result"
    }
   ],
   "source": [
    "fever_paper_dev_null_counter = count_nulls_in_column(fever_paper_dev_df)\n",
    "fever_paper_dev_null_counter"
   ]
  },
  {
   "cell_type": "markdown",
   "id": "3399d7e7",
   "metadata": {},
   "source": [
    "## Merged FEVER Dataset"
   ]
  },
  {
   "cell_type": "code",
   "execution_count": 34,
   "id": "7a0680c6",
   "metadata": {},
   "outputs": [
    {
     "data": {
      "text/html": [
       "<div>\n",
       "<style scoped>\n",
       "    .dataframe tbody tr th:only-of-type {\n",
       "        vertical-align: middle;\n",
       "    }\n",
       "\n",
       "    .dataframe tbody tr th {\n",
       "        vertical-align: top;\n",
       "    }\n",
       "\n",
       "    .dataframe thead th {\n",
       "        text-align: right;\n",
       "    }\n",
       "</style>\n",
       "<table border=\"1\" class=\"dataframe\">\n",
       "  <thead>\n",
       "    <tr style=\"text-align: right;\">\n",
       "      <th></th>\n",
       "      <th>id</th>\n",
       "      <th>verifiable</th>\n",
       "      <th>label</th>\n",
       "      <th>claim</th>\n",
       "      <th>evidence</th>\n",
       "    </tr>\n",
       "  </thead>\n",
       "  <tbody>\n",
       "    <tr>\n",
       "      <th>0</th>\n",
       "      <td>75397</td>\n",
       "      <td>VERIFIABLE</td>\n",
       "      <td>SUPPORTS</td>\n",
       "      <td>Nikolaj Coster-Waldau worked with the Fox Broa...</td>\n",
       "      <td>[[[92206, 104971, Nikolaj_Coster-Waldau, 7], [...</td>\n",
       "    </tr>\n",
       "    <tr>\n",
       "      <th>1</th>\n",
       "      <td>150448</td>\n",
       "      <td>VERIFIABLE</td>\n",
       "      <td>SUPPORTS</td>\n",
       "      <td>Roman Atwood is a content creator.</td>\n",
       "      <td>[[[174271, 187498, Roman_Atwood, 1]], [[174271...</td>\n",
       "    </tr>\n",
       "    <tr>\n",
       "      <th>2</th>\n",
       "      <td>214861</td>\n",
       "      <td>VERIFIABLE</td>\n",
       "      <td>SUPPORTS</td>\n",
       "      <td>History of art includes architecture, dance, s...</td>\n",
       "      <td>[[[255136, 254645, History_of_art, 2]]]</td>\n",
       "    </tr>\n",
       "    <tr>\n",
       "      <th>3</th>\n",
       "      <td>156709</td>\n",
       "      <td>VERIFIABLE</td>\n",
       "      <td>REFUTES</td>\n",
       "      <td>Adrienne Bailon is an accountant.</td>\n",
       "      <td>[[[180804, 193183, Adrienne_Bailon, 0]]]</td>\n",
       "    </tr>\n",
       "    <tr>\n",
       "      <th>4</th>\n",
       "      <td>83235</td>\n",
       "      <td>NOT VERIFIABLE</td>\n",
       "      <td>NOT ENOUGH INFO</td>\n",
       "      <td>System of a Down briefly disbanded in limbo.</td>\n",
       "      <td>[[[100277, None, None, None]]]</td>\n",
       "    </tr>\n",
       "  </tbody>\n",
       "</table>\n",
       "</div>"
      ],
      "text/plain": [
       "       id      verifiable            label  \\\n",
       "0   75397      VERIFIABLE         SUPPORTS   \n",
       "1  150448      VERIFIABLE         SUPPORTS   \n",
       "2  214861      VERIFIABLE         SUPPORTS   \n",
       "3  156709      VERIFIABLE          REFUTES   \n",
       "4   83235  NOT VERIFIABLE  NOT ENOUGH INFO   \n",
       "\n",
       "                                               claim  \\\n",
       "0  Nikolaj Coster-Waldau worked with the Fox Broa...   \n",
       "1                 Roman Atwood is a content creator.   \n",
       "2  History of art includes architecture, dance, s...   \n",
       "3                  Adrienne Bailon is an accountant.   \n",
       "4       System of a Down briefly disbanded in limbo.   \n",
       "\n",
       "                                            evidence  \n",
       "0  [[[92206, 104971, Nikolaj_Coster-Waldau, 7], [...  \n",
       "1  [[[174271, 187498, Roman_Atwood, 1]], [[174271...  \n",
       "2            [[[255136, 254645, History_of_art, 2]]]  \n",
       "3           [[[180804, 193183, Adrienne_Bailon, 0]]]  \n",
       "4                     [[[100277, None, None, None]]]  "
      ]
     },
     "execution_count": 34,
     "metadata": {},
     "output_type": "execute_result"
    }
   ],
   "source": [
    "FEVER_df = pd.concat([fever_train_df, fever_paper_test_df, fever_paper_dev_df], ignore_index=True)\n",
    "FEVER_df.head()"
   ]
  },
  {
   "cell_type": "code",
   "execution_count": 40,
   "id": "9fe6c4e5",
   "metadata": {},
   "outputs": [],
   "source": [
    "output_path = os.path.join(\"..\", \"datasets\", \"FEVER\", \"pre-processed\", \"FEVER_Merged.jsonl\")\n",
    "FEVER_df.to_json(output_path, orient=\"records\", lines=True)"
   ]
  },
  {
   "cell_type": "markdown",
   "id": "48c6d8d9",
   "metadata": {},
   "source": [
    "## FEVER Data Analysis"
   ]
  },
  {
   "cell_type": "code",
   "execution_count": 6,
   "id": "f14838f6",
   "metadata": {},
   "outputs": [
    {
     "name": "stdout",
     "output_type": "stream",
     "text": [
      "Reading from: e:\\Users\\Anirudh\\Study\\MS\\Implementation\\Thesis\\datasets\\FEVER\\pre-processed\\FEVER_Merged.jsonl\n"
     ]
    },
    {
     "data": {
      "text/html": [
       "<div>\n",
       "<style scoped>\n",
       "    .dataframe tbody tr th:only-of-type {\n",
       "        vertical-align: middle;\n",
       "    }\n",
       "\n",
       "    .dataframe tbody tr th {\n",
       "        vertical-align: top;\n",
       "    }\n",
       "\n",
       "    .dataframe thead th {\n",
       "        text-align: right;\n",
       "    }\n",
       "</style>\n",
       "<table border=\"1\" class=\"dataframe\">\n",
       "  <thead>\n",
       "    <tr style=\"text-align: right;\">\n",
       "      <th></th>\n",
       "      <th>id</th>\n",
       "      <th>verifiable</th>\n",
       "      <th>label</th>\n",
       "      <th>claim</th>\n",
       "      <th>evidence</th>\n",
       "    </tr>\n",
       "  </thead>\n",
       "  <tbody>\n",
       "    <tr>\n",
       "      <th>0</th>\n",
       "      <td>75397</td>\n",
       "      <td>VERIFIABLE</td>\n",
       "      <td>SUPPORTS</td>\n",
       "      <td>Nikolaj Coster-Waldau worked with the Fox Broa...</td>\n",
       "      <td>[[[92206, 104971, Nikolaj_Coster-Waldau, 7], [...</td>\n",
       "    </tr>\n",
       "    <tr>\n",
       "      <th>1</th>\n",
       "      <td>150448</td>\n",
       "      <td>VERIFIABLE</td>\n",
       "      <td>SUPPORTS</td>\n",
       "      <td>Roman Atwood is a content creator.</td>\n",
       "      <td>[[[174271, 187498, Roman_Atwood, 1]], [[174271...</td>\n",
       "    </tr>\n",
       "    <tr>\n",
       "      <th>2</th>\n",
       "      <td>214861</td>\n",
       "      <td>VERIFIABLE</td>\n",
       "      <td>SUPPORTS</td>\n",
       "      <td>History of art includes architecture, dance, s...</td>\n",
       "      <td>[[[255136, 254645, History_of_art, 2]]]</td>\n",
       "    </tr>\n",
       "    <tr>\n",
       "      <th>3</th>\n",
       "      <td>156709</td>\n",
       "      <td>VERIFIABLE</td>\n",
       "      <td>REFUTES</td>\n",
       "      <td>Adrienne Bailon is an accountant.</td>\n",
       "      <td>[[[180804, 193183, Adrienne_Bailon, 0]]]</td>\n",
       "    </tr>\n",
       "    <tr>\n",
       "      <th>4</th>\n",
       "      <td>83235</td>\n",
       "      <td>NOT VERIFIABLE</td>\n",
       "      <td>NOT ENOUGH INFO</td>\n",
       "      <td>System of a Down briefly disbanded in limbo.</td>\n",
       "      <td>[[[100277, None, None, None]]]</td>\n",
       "    </tr>\n",
       "  </tbody>\n",
       "</table>\n",
       "</div>"
      ],
      "text/plain": [
       "       id      verifiable            label  \\\n",
       "0   75397      VERIFIABLE         SUPPORTS   \n",
       "1  150448      VERIFIABLE         SUPPORTS   \n",
       "2  214861      VERIFIABLE         SUPPORTS   \n",
       "3  156709      VERIFIABLE          REFUTES   \n",
       "4   83235  NOT VERIFIABLE  NOT ENOUGH INFO   \n",
       "\n",
       "                                               claim  \\\n",
       "0  Nikolaj Coster-Waldau worked with the Fox Broa...   \n",
       "1                 Roman Atwood is a content creator.   \n",
       "2  History of art includes architecture, dance, s...   \n",
       "3                  Adrienne Bailon is an accountant.   \n",
       "4       System of a Down briefly disbanded in limbo.   \n",
       "\n",
       "                                            evidence  \n",
       "0  [[[92206, 104971, Nikolaj_Coster-Waldau, 7], [...  \n",
       "1  [[[174271, 187498, Roman_Atwood, 1]], [[174271...  \n",
       "2            [[[255136, 254645, History_of_art, 2]]]  \n",
       "3           [[[180804, 193183, Adrienne_Bailon, 0]]]  \n",
       "4                     [[[100277, None, None, None]]]  "
      ]
     },
     "execution_count": 6,
     "metadata": {},
     "output_type": "execute_result"
    }
   ],
   "source": [
    "FEVER_df = get_dataset_dataframe(\"FEVER\", \"pre-processed\", \"FEVER_Merged.jsonl\")\n",
    "FEVER_df.head()"
   ]
  },
  {
   "cell_type": "code",
   "execution_count": 7,
   "id": "98b31470",
   "metadata": {},
   "outputs": [
    {
     "data": {
      "text/plain": [
       "(165447, 5)"
      ]
     },
     "execution_count": 7,
     "metadata": {},
     "output_type": "execute_result"
    }
   ],
   "source": [
    "FEVER_df.shape"
   ]
  },
  {
   "cell_type": "markdown",
   "id": "3fb52974",
   "metadata": {},
   "source": [
    "Data Description:\n",
    "1. id: The ID of the claim\n",
    "2. label: The annotated label for the claim - SUPPORTS|REFUTES|NOT ENOUGH INFO.\n",
    "3. claim: The text of the claim.\n",
    "4. evidence: \n",
    "\n",
    "    A list of evidence sets like this\n",
    "    \n",
    "    [\n",
    "        [[Annotation ID, Evidence ID, Wikipedia URL/ Page Name, sentence ID] , ...], # evidence set 1\n",
    "        [[Annotation ID, Evidence ID, Wikipedia URL/ Page Name, sentence ID] , ...], # evidence set 2\n",
    "        ...\n",
    "    ]\n",
    "     \n",
    "     or\n",
    "\n",
    "    A [Annotation ID, Evidence ID, null, null] tuple if the label is NOT ENOUGH INFO.\n",
    "\n",
    "5. verifiable: There are 2 kind of values - 'VERIFIABLE' & 'NOT VERIFIABLE'\n",
    "    - Whenever a claim is verified ,i.e. either supports or refutes, with the given evidence, then, that comes under 'VERIFIABLE', whereas\n",
    "    - When a claim can't be verified, i.e. neither supports nor refutes, in the absence or the appropriate evidence, then, that comes under 'NOT VERIFIABLE'."
   ]
  },
  {
   "cell_type": "code",
   "execution_count": 18,
   "id": "d297c5f7",
   "metadata": {},
   "outputs": [
    {
     "data": {
      "image/png": "[encoded data removed]",
      "text/plain": [
       "<Figure size 600x400 with 1 Axes>"
      ]
     },
     "metadata": {},
     "output_type": "display_data"
    }
   ],
   "source": [
    "getcountplot(FEVER_df, 'verifiable', 'FEVER')"
   ]
  },
  {
   "cell_type": "code",
   "execution_count": 19,
   "id": "fc5947a6",
   "metadata": {},
   "outputs": [
    {
     "data": {
      "image/png": "[encoded data removed]",
      "text/plain": [
       "<Figure size 600x400 with 1 Axes>"
      ]
     },
     "metadata": {},
     "output_type": "display_data"
    }
   ],
   "source": [
    "getcountplot(FEVER_df, 'label', 'FEVER')"
   ]
  },
  {
   "cell_type": "code",
   "execution_count": null,
   "id": "a85daf4a",
   "metadata": {},
   "outputs": [],
   "source": [
    "# Dropping the 'verifiable' column as we already have the 'label' column\n",
    "FEVER_df = FEVER_df.drop(columns=['verifiable'])\n",
    "FEVER_df.head()"
   ]
  },
  {
   "cell_type": "code",
   "execution_count": 44,
   "id": "519715d5",
   "metadata": {},
   "outputs": [
    {
     "data": {
      "text/html": [
       "<div>\n",
       "<style scoped>\n",
       "    .dataframe tbody tr th:only-of-type {\n",
       "        vertical-align: middle;\n",
       "    }\n",
       "\n",
       "    .dataframe tbody tr th {\n",
       "        vertical-align: top;\n",
       "    }\n",
       "\n",
       "    .dataframe thead th {\n",
       "        text-align: right;\n",
       "    }\n",
       "</style>\n",
       "<table border=\"1\" class=\"dataframe\">\n",
       "  <thead>\n",
       "    <tr style=\"text-align: right;\">\n",
       "      <th></th>\n",
       "      <th>id</th>\n",
       "      <th>label</th>\n",
       "      <th>claim</th>\n",
       "      <th>evidence</th>\n",
       "      <th>evidence_count</th>\n",
       "    </tr>\n",
       "  </thead>\n",
       "  <tbody>\n",
       "    <tr>\n",
       "      <th>0</th>\n",
       "      <td>75397</td>\n",
       "      <td>SUPPORTS</td>\n",
       "      <td>Nikolaj Coster-Waldau worked with the Fox Broa...</td>\n",
       "      <td>[[[92206, 104971, Nikolaj_Coster-Waldau, 7], [...</td>\n",
       "      <td>1</td>\n",
       "    </tr>\n",
       "    <tr>\n",
       "      <th>1</th>\n",
       "      <td>150448</td>\n",
       "      <td>SUPPORTS</td>\n",
       "      <td>Roman Atwood is a content creator.</td>\n",
       "      <td>[[[174271, 187498, Roman_Atwood, 1]], [[174271...</td>\n",
       "      <td>2</td>\n",
       "    </tr>\n",
       "    <tr>\n",
       "      <th>2</th>\n",
       "      <td>214861</td>\n",
       "      <td>SUPPORTS</td>\n",
       "      <td>History of art includes architecture, dance, s...</td>\n",
       "      <td>[[[255136, 254645, History_of_art, 2]]]</td>\n",
       "      <td>1</td>\n",
       "    </tr>\n",
       "    <tr>\n",
       "      <th>3</th>\n",
       "      <td>156709</td>\n",
       "      <td>REFUTES</td>\n",
       "      <td>Adrienne Bailon is an accountant.</td>\n",
       "      <td>[[[180804, 193183, Adrienne_Bailon, 0]]]</td>\n",
       "      <td>1</td>\n",
       "    </tr>\n",
       "    <tr>\n",
       "      <th>4</th>\n",
       "      <td>83235</td>\n",
       "      <td>NOT ENOUGH INFO</td>\n",
       "      <td>System of a Down briefly disbanded in limbo.</td>\n",
       "      <td>[[[100277, None, None, None]]]</td>\n",
       "      <td>1</td>\n",
       "    </tr>\n",
       "  </tbody>\n",
       "</table>\n",
       "</div>"
      ],
      "text/plain": [
       "       id            label                                              claim  \\\n",
       "0   75397         SUPPORTS  Nikolaj Coster-Waldau worked with the Fox Broa...   \n",
       "1  150448         SUPPORTS                 Roman Atwood is a content creator.   \n",
       "2  214861         SUPPORTS  History of art includes architecture, dance, s...   \n",
       "3  156709          REFUTES                  Adrienne Bailon is an accountant.   \n",
       "4   83235  NOT ENOUGH INFO       System of a Down briefly disbanded in limbo.   \n",
       "\n",
       "                                            evidence  evidence_count  \n",
       "0  [[[92206, 104971, Nikolaj_Coster-Waldau, 7], [...               1  \n",
       "1  [[[174271, 187498, Roman_Atwood, 1]], [[174271...               2  \n",
       "2            [[[255136, 254645, History_of_art, 2]]]               1  \n",
       "3           [[[180804, 193183, Adrienne_Bailon, 0]]]               1  \n",
       "4                     [[[100277, None, None, None]]]               1  "
      ]
     },
     "execution_count": 44,
     "metadata": {},
     "output_type": "execute_result"
    }
   ],
   "source": [
    "FEVER_df.head()"
   ]
  },
  {
   "cell_type": "code",
   "execution_count": 30,
   "id": "28a576d4",
   "metadata": {},
   "outputs": [
    {
     "data": {
      "text/plain": [
       "0    1\n",
       "1    2\n",
       "2    1\n",
       "3    1\n",
       "4    1\n",
       "Name: evidence_count, dtype: int64"
      ]
     },
     "execution_count": 30,
     "metadata": {},
     "output_type": "execute_result"
    }
   ],
   "source": [
    "FEVER_df['evidence_count'] = FEVER_df['evidence'].apply(lambda x: len(x))\n",
    "FEVER_df['evidence_count'].head()"
   ]
  },
  {
   "cell_type": "code",
   "execution_count": null,
   "id": "cdfcf575",
   "metadata": {},
   "outputs": [],
   "source": [
    "FEVER_df.head()"
   ]
  },
  {
   "cell_type": "code",
   "execution_count": 21,
   "id": "08337d77",
   "metadata": {},
   "outputs": [
    {
     "data": {
      "text/plain": [
       "pandas.core.series.Series"
      ]
     },
     "execution_count": 21,
     "metadata": {},
     "output_type": "execute_result"
    }
   ],
   "source": [
    "type(FEVER_df['evidence'].head())"
   ]
  },
  {
   "cell_type": "code",
   "execution_count": 32,
   "id": "615ce6a4",
   "metadata": {},
   "outputs": [
    {
     "data": {
      "text/plain": [
       "[[[92206, 104971, 'Nikolaj_Coster-Waldau', 7],\n",
       "  [92206, 104971, 'Fox_Broadcasting_Company', 0]]]"
      ]
     },
     "execution_count": 32,
     "metadata": {},
     "output_type": "execute_result"
    }
   ],
   "source": [
    "FEVER_df['evidence'][0]"
   ]
  },
  {
   "cell_type": "code",
   "execution_count": 33,
   "id": "c23684f4",
   "metadata": {},
   "outputs": [
    {
     "data": {
      "text/plain": [
       "[[[174271, 187498, 'Roman_Atwood', 1]], [[174271, 187499, 'Roman_Atwood', 3]]]"
      ]
     },
     "execution_count": 33,
     "metadata": {},
     "output_type": "execute_result"
    }
   ],
   "source": [
    "FEVER_df['evidence'][1]"
   ]
  },
  {
   "cell_type": "code",
   "execution_count": 37,
   "id": "403d2be5",
   "metadata": {},
   "outputs": [
    {
     "data": {
      "text/plain": [
       "251"
      ]
     },
     "execution_count": 37,
     "metadata": {},
     "output_type": "execute_result"
    }
   ],
   "source": [
    "max(FEVER_df['evidence_count'])"
   ]
  },
  {
   "cell_type": "code",
   "execution_count": 39,
   "id": "c3773ae5",
   "metadata": {},
   "outputs": [
    {
     "data": {
      "text/html": [
       "<div>\n",
       "<style scoped>\n",
       "    .dataframe tbody tr th:only-of-type {\n",
       "        vertical-align: middle;\n",
       "    }\n",
       "\n",
       "    .dataframe tbody tr th {\n",
       "        vertical-align: top;\n",
       "    }\n",
       "\n",
       "    .dataframe thead th {\n",
       "        text-align: right;\n",
       "    }\n",
       "</style>\n",
       "<table border=\"1\" class=\"dataframe\">\n",
       "  <thead>\n",
       "    <tr style=\"text-align: right;\">\n",
       "      <th></th>\n",
       "      <th>id</th>\n",
       "      <th>verifiable</th>\n",
       "      <th>label</th>\n",
       "      <th>claim</th>\n",
       "      <th>evidence</th>\n",
       "      <th>evidence_count</th>\n",
       "    </tr>\n",
       "  </thead>\n",
       "  <tbody>\n",
       "    <tr>\n",
       "      <th>145043</th>\n",
       "      <td>1885</td>\n",
       "      <td>VERIFIABLE</td>\n",
       "      <td>SUPPORTS</td>\n",
       "      <td>Leonardo DiCaprio is an actor.</td>\n",
       "      <td>[[[11122, 13996, Leonardo_DiCaprio, 0]], [[111...</td>\n",
       "      <td>251</td>\n",
       "    </tr>\n",
       "  </tbody>\n",
       "</table>\n",
       "</div>"
      ],
      "text/plain": [
       "          id  verifiable     label                           claim  \\\n",
       "145043  1885  VERIFIABLE  SUPPORTS  Leonardo DiCaprio is an actor.   \n",
       "\n",
       "                                                 evidence  evidence_count  \n",
       "145043  [[[11122, 13996, Leonardo_DiCaprio, 0]], [[111...             251  "
      ]
     },
     "execution_count": 39,
     "metadata": {},
     "output_type": "execute_result"
    }
   ],
   "source": [
    "FEVER_df[FEVER_df['evidence_count'] == 251]"
   ]
  },
  {
   "cell_type": "code",
   "execution_count": null,
   "id": "e7c672d4",
   "metadata": {},
   "outputs": [
    {
     "data": {
      "text/plain": [
       "[[[11122, 13996, 'Leonardo_DiCaprio', 0]],\n",
       " [[11122, 13997, 'Leonardo_DiCaprio', 1]],\n",
       " [[11122, 13998, 'Leonardo_DiCaprio', 2]],\n",
       " [[11122, 13999, 'Leonardo_DiCaprio', 3]],\n",
       " [[11122, 14000, 'Leonardo_DiCaprio', 4]],\n",
       " [[11122, 14001, 'Leonardo_DiCaprio', 8],\n",
       "  [11122, 14001, 'Catch_Me_If_You_Can', 2]],\n",
       " [[11122, 14002, 'Leonardo_DiCaprio', 9], [11122, 14002, 'Blood_Diamond', 0]],\n",
       " [[11122, 14003, 'Leonardo_DiCaprio', 12]],\n",
       " [[11122, 14004, 'Leonardo_DiCaprio', 13]],\n",
       " [[11122, 14005, 'Leonardo_DiCaprio', 14],\n",
       "  [11122, 14005, 'Appian_Way_Productions', 0]],\n",
       " [[15299, 19078, 'Leonardo_DiCaprio', 0]],\n",
       " [[15299, 19079, 'Leonardo_DiCaprio', 2]],\n",
       " [[15299, 19080, 'Leonardo_DiCaprio', 3]],\n",
       " [[15299, 19081, 'Leonardo_DiCaprio', 4],\n",
       "  [15299, 19081, 'The_Basketball_Diaries_-LRB-film-RRB-', 0]],\n",
       " [[15299, 19082, 'Leonardo_DiCaprio', 8],\n",
       "  [15299, 19082, 'The_Man_in_the_Iron_Mask_-LRB-1998_film-RRB-', 0]],\n",
       " [[15299, 19083, 'Leonardo_DiCaprio', 9], [15299, 19083, 'Blood_Diamond', 0]],\n",
       " [[15299, 19084, 'Leonardo_DiCaprio', 12]],\n",
       " [[15299, 19085, 'Leonardo_DiCaprio', 13],\n",
       "  [15299, 19085, 'The_Revenant_-LRB-2015_film-RRB-', 1]],\n",
       " [[16101, 19965, 'Leonardo_DiCaprio', 0]],\n",
       " [[16101, 19966, 'Leonardo_DiCaprio', 1]],\n",
       " [[16101, 19967, 'Leonardo_DiCaprio', 2]],\n",
       " [[16101, 19968, 'Leonardo_DiCaprio', 3]],\n",
       " [[16101, 19969, 'Leonardo_DiCaprio', 4]],\n",
       " [[18104, 22255, 'Leonardo_DiCaprio', 0]],\n",
       " [[18104, 22256, 'Leonardo_DiCaprio', 2], [18104, 22256, 'Critters_3', 0]],\n",
       " [[18104, 22257, 'Leonardo_DiCaprio', 4],\n",
       "  [18104, 22257, 'Romeo_+_Juliet', 1],\n",
       "  [18104, 22257, 'The_Basketball_Diaries_-LRB-film-RRB-', 0],\n",
       "  [18104, 22257, 'Titanic_-LRB-1997_film-RRB-', 1]],\n",
       " [[18104, 22258, 'Leonardo_DiCaprio', 8],\n",
       "  [18104, 22258, 'Catch_Me_If_You_Can', 2],\n",
       "  [18104, 22258, 'The_Man_in_the_Iron_Mask_-LRB-1998_film-RRB-', 0]],\n",
       " [[18104, 22259, 'Leonardo_DiCaprio', 9],\n",
       "  [18104, 22259, 'Blood_Diamond', 0],\n",
       "  [18104, 22259, 'Body_of_Lies_-LRB-film-RRB-', 13],\n",
       "  [18104, 22259, 'Django_Unchained', 0],\n",
       "  [18104, 22259, 'Inception', 1],\n",
       "  [18104, 22259, 'J._Edgar', 4],\n",
       "  [18104, 22259, 'Revolutionary_Road_-LRB-film-RRB-', 2],\n",
       "  [18104, 22259, 'Shutter_Island_-LRB-film-RRB-', 1],\n",
       "  [18104, 22259, 'The_Departed', 2],\n",
       "  [18104, 22259, 'The_Great_Gatsby_-LRB-2013_film-RRB-', 1]],\n",
       " [[18104, 22260, 'Leonardo_DiCaprio', 12],\n",
       "  [18104, 22260, 'The_Aviator_-LRB-2004_film-RRB-', 1],\n",
       "  [18104, 22260, 'The_Revenant_-LRB-2015_film-RRB-', 1],\n",
       "  [18104, 22260, 'The_Wolf_of_Wall_Street_-LRB-2013_film-RRB-', 2]],\n",
       " [[19097, 23402, 'Leonardo_DiCaprio', 0]],\n",
       " [[19097, 23403, 'Leonardo_DiCaprio', 1]],\n",
       " [[19097, 23404, 'Leonardo_DiCaprio', 2]],\n",
       " [[19097, 23405, 'Leonardo_DiCaprio', 3]],\n",
       " [[19097, 23406, 'Leonardo_DiCaprio', 4]],\n",
       " [[19097, 23407, 'Leonardo_DiCaprio', 8],\n",
       "  [19097, 23407, 'Catch_Me_If_You_Can', 2]],\n",
       " [[19097, 23408, 'Leonardo_DiCaprio', 9]],\n",
       " [[19097, 23409, 'Leonardo_DiCaprio', 12]],\n",
       " [[19097, 23410, 'Leonardo_DiCaprio', 13]],\n",
       " [[19097, 23411, 'Leonardo_DiCaprio', 14],\n",
       "  [19097, 23411, 'Appian_Way_Productions', 0]],\n",
       " [[20390, 24968, 'Leonardo_DiCaprio', 0]],\n",
       " [[20390, 24969, 'Leonardo_DiCaprio', 1]],\n",
       " [[20390, 24970, 'Leonardo_DiCaprio', 2]],\n",
       " [[20390, 24971, 'Leonardo_DiCaprio', 3]],\n",
       " [[20390, 24972, 'Leonardo_DiCaprio', 4]],\n",
       " [[20390, 24973, 'Leonardo_DiCaprio', 8],\n",
       "  [20390, 24973, 'Catch_Me_If_You_Can', 2],\n",
       "  [20390, 24973, 'Gangs_of_New_York', 7],\n",
       "  [20390, 24973, 'The_Man_in_the_Iron_Mask_-LRB-1998_film-RRB-', 0]],\n",
       " [[20390, 24975, 'Leonardo_DiCaprio', 9],\n",
       "  [20390, 24975, 'Blood_Diamond', 0],\n",
       "  [20390, 24975, 'Body_of_Lies_-LRB-film-RRB-', 13],\n",
       "  [20390, 24975, 'Django_Unchained', 0],\n",
       "  [20390, 24975, 'Inception', 1],\n",
       "  [20390, 24975, 'J._Edgar', 4],\n",
       "  [20390, 24975, 'Revolutionary_Road_-LRB-film-RRB-', 2],\n",
       "  [20390, 24975, 'Shutter_Island_-LRB-film-RRB-', 1],\n",
       "  [20390, 24975, 'The_Departed', 2],\n",
       "  [20390, 24975, 'The_Great_Gatsby_-LRB-2013_film-RRB-', 1]],\n",
       " [[20390, 24977, 'Leonardo_DiCaprio', 12]],\n",
       " [[20390, 24978, 'Leonardo_DiCaprio', 13],\n",
       "  [20390, 24978, 'The_Revenant_-LRB-2015_film-RRB-', 1]],\n",
       " [[22647, 27944, 'Leonardo_DiCaprio', 0]],\n",
       " [[22647, 27945, 'Leonardo_DiCaprio', 1]],\n",
       " [[22647, 27946, 'Leonardo_DiCaprio', 2]],\n",
       " [[22647, 27947, 'Leonardo_DiCaprio', 3]],\n",
       " [[22647, 27948, 'Leonardo_DiCaprio', 4]],\n",
       " [[22647, 27949, 'Leonardo_DiCaprio', 8],\n",
       "  [22647, 27949, 'The_Man_in_the_Iron_Mask_-LRB-1998_film-RRB-', 0]],\n",
       " [[22647, 27950, 'Leonardo_DiCaprio', 9], [22647, 27950, 'Blood_Diamond', 0]],\n",
       " [[22647, 27951, 'Leonardo_DiCaprio', 12]],\n",
       " [[22647, 27952, 'Leonardo_DiCaprio', 13],\n",
       "  [22647, 27952, 'The_Revenant_-LRB-2015_film-RRB-', 1]],\n",
       " [[23924, 29614, 'Leonardo_DiCaprio', 0]],\n",
       " [[23924, 29615, 'Leonardo_DiCaprio', 12]],\n",
       " [[23924, 29616, 'Leonardo_DiCaprio', 8]],\n",
       " [[23924, 29617, 'Leonardo_DiCaprio', 9]],\n",
       " [[23924, 29618, 'Leonardo_DiCaprio', 4]],\n",
       " [[23924, 29619, 'Leonardo_DiCaprio', 3]],\n",
       " [[23924, 29620, 'Leonardo_DiCaprio', 2]],\n",
       " [[23924, 29621, 'Leonardo_DiCaprio', 1]],\n",
       " [[25319, 31219, 'Leonardo_DiCaprio', 0]],\n",
       " [[26628, 32682, 'Leonardo_DiCaprio', 0]],\n",
       " [[29103, 35500, 'Leonardo_DiCaprio', 0]],\n",
       " [[29103, 35501, 'Leonardo_DiCaprio', 2]],\n",
       " [[29103, 35502, 'Leonardo_DiCaprio', 3]],\n",
       " [[29103, 35503, 'Leonardo_DiCaprio', 4]],\n",
       " [[29103, 35504, 'Leonardo_DiCaprio', 9]],\n",
       " [[29103, 35505, 'Leonardo_DiCaprio', 12]],\n",
       " [[29103, 35506, 'Leonardo_DiCaprio', 13]],\n",
       " [[31225, 37926, 'Leonardo_DiCaprio', 0]],\n",
       " [[31225, 37927, 'Leonardo_DiCaprio', 1]],\n",
       " [[31225, 37928, 'Leonardo_DiCaprio', 2]],\n",
       " [[31225, 37929, 'Leonardo_DiCaprio', 3]],\n",
       " [[31225, 37930, 'Leonardo_DiCaprio', 4]],\n",
       " [[31225, 37931, 'Leonardo_DiCaprio', 7]],\n",
       " [[31225, 37932, 'Leonardo_DiCaprio', 8]],\n",
       " [[31225, 37933, 'Leonardo_DiCaprio', 9]],\n",
       " [[31225, 37934, 'Leonardo_DiCaprio', 12]],\n",
       " [[31225, 37935, 'Leonardo_DiCaprio', 13],\n",
       "  [31225, 37935, 'The_Revenant_-LRB-2015_film-RRB-', 0],\n",
       "  [31225, 37935, 'Academy_Awards', 0]],\n",
       " [[33456, 40588, 'Leonardo_DiCaprio', 0]],\n",
       " [[33456, 40589, 'Leonardo_DiCaprio', 1]],\n",
       " [[33456, 40590, 'Leonardo_DiCaprio', 2]],\n",
       " [[33456, 40591, 'Leonardo_DiCaprio', 3]],\n",
       " [[33456, 40592, 'Leonardo_DiCaprio', 7]],\n",
       " [[33456, 40593, 'Leonardo_DiCaprio', 4]],\n",
       " [[33456, 40594, 'Leonardo_DiCaprio', 8]],\n",
       " [[33456, 40595, 'Leonardo_DiCaprio', 9]],\n",
       " [[33456, 40596, 'Leonardo_DiCaprio', 12]],\n",
       " [[33456, 40597, 'Leonardo_DiCaprio', 13]],\n",
       " [[35087, 42544, 'Leonardo_DiCaprio', 0]],\n",
       " [[35087, 42545, 'Leonardo_DiCaprio', 2]],\n",
       " [[35087, 42546, 'Leonardo_DiCaprio', 3]],\n",
       " [[35087, 42547, 'Leonardo_DiCaprio', 4],\n",
       "  [35087, 42547, 'The_Basketball_Diaries_-LRB-film-RRB-', 0],\n",
       "  [35087, 42547, 'Romeo_+_Juliet', 1],\n",
       "  [35087, 42547, 'Titanic_-LRB-1997_film-RRB-', 1]],\n",
       " [[35087, 42548, 'Leonardo_DiCaprio', 8],\n",
       "  [35087, 42548, 'Gangs_of_New_York', 7],\n",
       "  [35087, 42548, 'The_Man_in_the_Iron_Mask_-LRB-1998_film-RRB-', 0],\n",
       "  [35087, 42548, 'Catch_Me_If_You_Can', 2]],\n",
       " [[35087, 42549, 'Leonardo_DiCaprio', 9],\n",
       "  [35087, 42549, 'Shutter_Island_-LRB-film-RRB-', 1],\n",
       "  [35087, 42549, 'Inception', 1],\n",
       "  [35087, 42549, 'Django_Unchained', 0],\n",
       "  [35087, 42549, 'Blood_Diamond', 0],\n",
       "  [35087, 42549, 'Revolutionary_Road_-LRB-film-RRB-', 3],\n",
       "  [35087, 42549, 'The_Departed', 2],\n",
       "  [35087, 42549, 'J._Edgar', 4],\n",
       "  [35087, 42549, 'Body_of_Lies_-LRB-film-RRB-', 13]],\n",
       " [[35087, 42550, 'Leonardo_DiCaprio', 12],\n",
       "  [35087, 42550, 'The_Revenant_-LRB-2015_film-RRB-', 1],\n",
       "  [35087, 42550, 'The_Wolf_of_Wall_Street_-LRB-2013_film-RRB-', 16],\n",
       "  [35087, 42550, 'The_Aviator_-LRB-2004_film-RRB-', 1]],\n",
       " [[35087, 42551, 'Leonardo_DiCaprio', 13],\n",
       "  [35087, 42551, 'The_Revenant_-LRB-2015_film-RRB-', 13],\n",
       "  [35087, 42551, 'The_Revenant_-LRB-2015_film-RRB-', 1]],\n",
       " [[37061, 44732, 'Leonardo_DiCaprio', 0]],\n",
       " [[37061, 44733, 'Leonardo_DiCaprio', 1]],\n",
       " [[37061, 44734, 'Leonardo_DiCaprio', 2]],\n",
       " [[37061, 44735, 'Leonardo_DiCaprio', 3]],\n",
       " [[37061, 44736, 'Leonardo_DiCaprio', 4]],\n",
       " [[37061, 44737, 'Leonardo_DiCaprio', 8],\n",
       "  [37061, 44737, 'Gangs_of_New_York', 7],\n",
       "  [37061, 44737, 'Catch_Me_If_You_Can', 2],\n",
       "  [37061, 44737, 'Martin_Scorsese_and_Leonardo_DiCaprio', 0]],\n",
       " [[37061, 44738, 'Leonardo_DiCaprio', 9]],\n",
       " [[37061, 44739, 'Leonardo_DiCaprio', 12]],\n",
       " [[39085, 47067, 'Leonardo_DiCaprio', 0]],\n",
       " [[39085, 47068, 'Leonardo_DiCaprio', 12]],\n",
       " [[39085, 47069, 'Leonardo_DiCaprio', 13],\n",
       "  [39085, 47069, 'The_Revenant_-LRB-2015_film-RRB-', 1]],\n",
       " [[39085, 47070, 'Leonardo_DiCaprio', 1]],\n",
       " [[39085, 47071, 'Leonardo_DiCaprio', 2], [39085, 47071, 'Critters_3', 0]],\n",
       " [[39085, 47072, 'Leonardo_DiCaprio', 3]],\n",
       " [[39085, 47073, 'Leonardo_DiCaprio', 4]],\n",
       " [[39085, 47074, 'Leonardo_DiCaprio', 8]],\n",
       " [[39085, 47075, 'Leonardo_DiCaprio', 9]],\n",
       " [[43491, 52140, 'Leonardo_DiCaprio', 0]],\n",
       " [[43491, 52141, 'Leonardo_DiCaprio', 2]],\n",
       " [[43491, 52142, 'Leonardo_DiCaprio', 3]],\n",
       " [[43491, 52143, 'Leonardo_DiCaprio', 4]],\n",
       " [[43491, 52144, 'Leonardo_DiCaprio', 8],\n",
       "  [43491, 52144, 'The_Man_in_the_Iron_Mask_-LRB-1998_film-RRB-', 0],\n",
       "  [43491, 52144, 'Catch_Me_If_You_Can', 2],\n",
       "  [43491, 52144, 'Gangs_of_New_York', 7]],\n",
       " [[43491, 52145, 'Leonardo_DiCaprio', 9]],\n",
       " [[43491, 52146, 'Leonardo_DiCaprio', 12]],\n",
       " [[43491, 52147, 'Leonardo_DiCaprio', 13]],\n",
       " [[45725, 54591, 'Leonardo_DiCaprio', 0]],\n",
       " [[45725, 54592, 'Leonardo_DiCaprio', 4]],\n",
       " [[45725, 54593, 'Leonardo_DiCaprio', 3]],\n",
       " [[45725, 54594, 'Leonardo_DiCaprio', 2]],\n",
       " [[47355, 56476, 'Leonardo_DiCaprio', 0]],\n",
       " [[50072, 59594, 'Leonardo_DiCaprio', 0]],\n",
       " [[50072, 59595, 'Leonardo_DiCaprio', 1]],\n",
       " [[50072, 59596, 'Leonardo_DiCaprio', 2]],\n",
       " [[50072, 59597, 'Leonardo_DiCaprio', 3]],\n",
       " [[50072, 59598, 'Leonardo_DiCaprio', 4]],\n",
       " [[50072, 59599, 'Leonardo_DiCaprio', 8],\n",
       "  [50072, 59599, 'Catch_Me_If_You_Can', 2]],\n",
       " [[50072, 59600, 'Leonardo_DiCaprio', 9], [50072, 59600, 'Blood_Diamond', 0]],\n",
       " [[50072, 59601, 'Leonardo_DiCaprio', 12]],\n",
       " [[50072, 59602, 'Leonardo_DiCaprio', 13],\n",
       "  [50072, 59602, 'The_Revenant_-LRB-2015_film-RRB-', 1]],\n",
       " [[50072, 59603, 'Leonardo_DiCaprio', 14],\n",
       "  [50072, 59603, 'Appian_Way_Productions', 0]],\n",
       " [[55180, 65217, 'Leonardo_DiCaprio', 0]],\n",
       " [[55180, 65218, 'Leonardo_DiCaprio', 1]],\n",
       " [[55180, 65219, 'Leonardo_DiCaprio', 2]],\n",
       " [[55180, 65220, 'Leonardo_DiCaprio', 3]],\n",
       " [[55180, 65221, 'Leonardo_DiCaprio', 4]],\n",
       " [[55180, 65222, 'Leonardo_DiCaprio', 8],\n",
       "  [55180, 65222, 'Gangs_of_New_York', 7]],\n",
       " [[55180, 65223, 'Leonardo_DiCaprio', 9]],\n",
       " [[55180, 65224, 'Leonardo_DiCaprio', 12]],\n",
       " [[55180, 65225, 'Leonardo_DiCaprio', 13]],\n",
       " [[56513, 66711, 'Leonardo_DiCaprio', 0]],\n",
       " [[56513, 66712, 'Leonardo_DiCaprio', 1]],\n",
       " [[56513, 66713, 'Leonardo_DiCaprio', 4]],\n",
       " [[59747, 70155, 'Leonardo_DiCaprio', 0]],\n",
       " [[59747, 70156, 'Leonardo_DiCaprio', 2], [59747, 70156, 'Critters_3', 0]],\n",
       " [[59747, 70157, 'Leonardo_DiCaprio', 13]],\n",
       " [[59747, 70158, 'Leonardo_DiCaprio', 9]],\n",
       " [[61124, 71600, 'Leonardo_DiCaprio', 0]],\n",
       " [[61124, 71601, 'Leonardo_DiCaprio', 12]],\n",
       " [[61124, 71602, 'Leonardo_DiCaprio', 13]],\n",
       " [[61124, 71603, 'Leonardo_DiCaprio', 1]],\n",
       " [[61124, 71604, 'Leonardo_DiCaprio', 2]],\n",
       " [[61124, 71605, 'Leonardo_DiCaprio', 3]],\n",
       " [[61124, 71606, 'Leonardo_DiCaprio', 4]],\n",
       " [[61124, 71607, 'Leonardo_DiCaprio', 8],\n",
       "  [61124, 71607, 'Catch_Me_If_You_Can', 2]],\n",
       " [[61124, 71608, 'Leonardo_DiCaprio', 9]],\n",
       " [[63610, 74363, 'Leonardo_DiCaprio', 0]],\n",
       " [[64886, 75745, 'Leonardo_DiCaprio', 0]],\n",
       " [[64886, 75746, 'Leonardo_DiCaprio', 12]],\n",
       " [[66544, 77366, 'Leonardo_DiCaprio', 0]],\n",
       " [[66544, 77367, 'Leonardo_DiCaprio', 12]],\n",
       " [[67770, 78608, 'Leonardo_DiCaprio', 0]],\n",
       " [[67770, 78609, 'Leonardo_DiCaprio', 2]],\n",
       " [[67770, 78610, 'Leonardo_DiCaprio', 3]],\n",
       " [[67770, 78611, 'Leonardo_DiCaprio', 4]],\n",
       " [[67770, 78612, 'Leonardo_DiCaprio', 8]],\n",
       " [[67770, 78613, 'Leonardo_DiCaprio', 9]],\n",
       " [[67770, 78614, 'Leonardo_DiCaprio', 12]],\n",
       " [[71636, 82622, 'Leonardo_DiCaprio', 0]],\n",
       " [[74947, 86161, 'Leonardo_DiCaprio', 0]],\n",
       " [[74947, 86162, 'Leonardo_DiCaprio', 1]],\n",
       " [[74947, 86163, 'Leonardo_DiCaprio', 2]],\n",
       " [[74947, 86164, 'Leonardo_DiCaprio', 3]],\n",
       " [[74947, 86165, 'Leonardo_DiCaprio', 4]],\n",
       " [[74947, 86166, 'Leonardo_DiCaprio', 8],\n",
       "  [74947, 86166, 'The_Man_in_the_Iron_Mask_-LRB-1998_film-RRB-', 0]],\n",
       " [[74947, 86167, 'Leonardo_DiCaprio', 9]],\n",
       " [[74947, 86168, 'Leonardo_DiCaprio', 12]],\n",
       " [[74947, 86169, 'Leonardo_DiCaprio', 13],\n",
       "  [74947, 86169, 'The_Revenant_-LRB-2015_film-RRB-', 1]],\n",
       " [[79030, 90636, 'Leonardo_DiCaprio', 0]],\n",
       " [[83828, 95848, 'Leonardo_DiCaprio', 0]],\n",
       " [[83828, 95849, 'Leonardo_DiCaprio', 1]],\n",
       " [[83828, 95850, 'Leonardo_DiCaprio', 2]],\n",
       " [[83828, 95851, 'Leonardo_DiCaprio', 3]],\n",
       " [[83828, 95852, 'Leonardo_DiCaprio', 4]],\n",
       " [[83828, 95853, 'Leonardo_DiCaprio', 8]],\n",
       " [[83828, 95854, 'Leonardo_DiCaprio', 9]],\n",
       " [[83828, 95855, 'Leonardo_DiCaprio', 12]],\n",
       " [[96940, 110097, 'Leonardo_DiCaprio', 0]],\n",
       " [[96940, 110098, 'Leonardo_DiCaprio', 4],\n",
       "  [96940, 110098, 'Titanic_-LRB-1997_film-RRB-', 0],\n",
       "  [96940, 110098, 'The_Basketball_Diaries_-LRB-film-RRB-', 0]],\n",
       " [[96940, 110099, 'Leonardo_DiCaprio', 8],\n",
       "  [96940, 110099, 'Martin_Scorsese', 11],\n",
       "  [96940, 110099, 'Gangs_of_New_York', 7],\n",
       "  [96940, 110099, 'Martin_Scorsese_and_Leonardo_DiCaprio', 5],\n",
       "  [96940, 110099, 'Catch_Me_If_You_Can', 2]],\n",
       " [[96940, 110100, 'Leonardo_DiCaprio', 9]],\n",
       " [[96940, 110101, 'Leonardo_DiCaprio', 12]],\n",
       " [[96940, 110102, 'Leonardo_DiCaprio', 13]],\n",
       " [[102393, 115665, 'Leonardo_DiCaprio', 0]],\n",
       " [[102393, 115666, 'Leonardo_DiCaprio', 1]],\n",
       " [[102393, 115667, 'Leonardo_DiCaprio', 2]],\n",
       " [[102393, 115668, 'Leonardo_DiCaprio', 8]],\n",
       " [[102393, 115669, 'Leonardo_DiCaprio', 12]],\n",
       " [[106654, 120050, 'Leonardo_DiCaprio', 0]],\n",
       " [[106654, 120051, 'Leonardo_DiCaprio', 1]],\n",
       " [[106654, 120052, 'Leonardo_DiCaprio', 2]],\n",
       " [[106654, 120053, 'Leonardo_DiCaprio', 3]],\n",
       " [[106654, 120054, 'Leonardo_DiCaprio', 4]],\n",
       " [[106654, 120055, 'Leonardo_DiCaprio', 8]],\n",
       " [[106654, 120056, 'Leonardo_DiCaprio', 9]],\n",
       " [[106654, 120057, 'Leonardo_DiCaprio', 12]],\n",
       " [[106654, 120058, 'Leonardo_DiCaprio', 13]],\n",
       " [[113000, 126836, 'Leonardo_DiCaprio', 0]],\n",
       " [[120218, 134394, 'Leonardo_DiCaprio', 0]],\n",
       " [[120218, 134395, 'Leonardo_DiCaprio', 3]],\n",
       " [[120218, 134396, 'Leonardo_DiCaprio', 2]],\n",
       " [[120218, 134397, 'Leonardo_DiCaprio', 1]],\n",
       " [[120218, 134398, 'Leonardo_DiCaprio', 7]],\n",
       " [[120218, 134399, 'Leonardo_DiCaprio', 8]],\n",
       " [[120218, 134400, 'Leonardo_DiCaprio', 13]],\n",
       " [[124383, 138740, 'Leonardo_DiCaprio', 0]],\n",
       " [[124383, 138741, 'Leonardo_DiCaprio', 1]],\n",
       " [[124383, 138742, 'Leonardo_DiCaprio', 2]],\n",
       " [[124383, 138743, 'Leonardo_DiCaprio', 3]],\n",
       " [[124383, 138744, 'Leonardo_DiCaprio', 4]],\n",
       " [[124383, 138745, 'Leonardo_DiCaprio', 8]],\n",
       " [[124383, 138747, 'Leonardo_DiCaprio', 9]],\n",
       " [[124383, 138748, 'Leonardo_DiCaprio', 12]],\n",
       " [[124383, 138749, 'Leonardo_DiCaprio', 13]],\n",
       " [[164562, 178804, 'Leonardo_DiCaprio', 0]],\n",
       " [[231505, 234985, 'Leonardo_DiCaprio', 0]],\n",
       " [[231505, 234986, 'Leonardo_DiCaprio', 3]],\n",
       " [[231505, 234987, 'Leonardo_DiCaprio', 2]],\n",
       " [[231505, 234988, 'Leonardo_DiCaprio', 1]],\n",
       " [[231505, 234989, 'Leonardo_DiCaprio', 4]],\n",
       " [[231505, 234990, 'Leonardo_DiCaprio', 8]],\n",
       " [[231505, 234991, 'Leonardo_DiCaprio', 9]],\n",
       " [[231505, 234992, 'Leonardo_DiCaprio', 12]],\n",
       " [[251640, 251445, 'Leonardo_DiCaprio', 0]],\n",
       " [[251640, 251446, 'Leonardo_DiCaprio', 1]],\n",
       " [[251640, 251447, 'Leonardo_DiCaprio', 2]],\n",
       " [[251640, 251448, 'Leonardo_DiCaprio', 3]],\n",
       " [[251640, 251449, 'Leonardo_DiCaprio', 4]],\n",
       " [[251640, 251450, 'Leonardo_DiCaprio', 9]],\n",
       " [[251640, 251451, 'Leonardo_DiCaprio', 12]]]"
      ]
     },
     "execution_count": 40,
     "metadata": {},
     "output_type": "execute_result"
    }
   ],
   "source": [
    "len(FEVER_df['evidence'][145043])"
   ]
  },
  {
   "cell_type": "code",
   "execution_count": 41,
   "id": "30a482cf",
   "metadata": {},
   "outputs": [
    {
     "data": {
      "text/plain": [
       "251"
      ]
     },
     "execution_count": 41,
     "metadata": {},
     "output_type": "execute_result"
    }
   ],
   "source": [
    "len(FEVER_df['evidence'][145043])"
   ]
  },
  {
   "cell_type": "code",
   "execution_count": 26,
   "id": "d415bc12",
   "metadata": {},
   "outputs": [
    {
     "data": {
      "text/plain": [
       "0         [[[92206, 104971, Nikolaj_Coster-Waldau, 7], [...\n",
       "1         [[[174271, 187498, Roman_Atwood, 1]], [[174271...\n",
       "2                   [[[255136, 254645, History_of_art, 2]]]\n",
       "3                  [[[180804, 193183, Adrienne_Bailon, 0]]]\n",
       "4                            [[[100277, None, None, None]]]\n",
       "                                ...                        \n",
       "165442    [[[284225, None, None, None], [285168, None, N...\n",
       "165443                        [[[71922, None, None, None]]]\n",
       "165444                        [[[49508, None, None, None]]]\n",
       "165445                       [[[246624, None, None, None]]]\n",
       "165446                        [[[92386, None, None, None]]]\n",
       "Name: evidence, Length: 165447, dtype: object"
      ]
     },
     "execution_count": 26,
     "metadata": {},
     "output_type": "execute_result"
    }
   ],
   "source": [
    "FEVER_df['evidence']"
   ]
  },
  {
   "cell_type": "code",
   "execution_count": 24,
   "id": "3d1cbdee",
   "metadata": {},
   "outputs": [
    {
     "name": "stdout",
     "output_type": "stream",
     "text": [
      "Max evidences in a row: 338\n",
      "Min evidences in a row: 1\n"
     ]
    }
   ],
   "source": [
    "# Count number of evidences per row\n",
    "FEVER_df[\"evidence_count\"] = FEVER_df[\"evidence\"].apply(lambda ev: sum(len(group) for group in ev if group))\n",
    "\n",
    "# Get basic stats\n",
    "max_evidence = FEVER_df[\"evidence_count\"].max()\n",
    "min_evidence = FEVER_df[\"evidence_count\"].min()\n",
    "\n",
    "print(f\"Max evidences in a row: {max_evidence}\")\n",
    "print(f\"Min evidences in a row: {min_evidence}\")"
   ]
  },
  {
   "cell_type": "code",
   "execution_count": 25,
   "id": "8ce55629",
   "metadata": {},
   "outputs": [
    {
     "data": {
      "image/png": "[encoded data removed]",
      "text/plain": [
       "<Figure size 800x400 with 1 Axes>"
      ]
     },
     "metadata": {},
     "output_type": "display_data"
    }
   ],
   "source": [
    "plt.figure(figsize=(8, 4))\n",
    "sns.histplot(FEVER_df[\"evidence_count\"], bins=range(0, FEVER_df[\"evidence_count\"].max()+2), kde=False)\n",
    "plt.title(\"Distribution of Evidence Counts per Row\")\n",
    "plt.xlabel(\"Evidence Count\")\n",
    "plt.ylabel(\"Frequency\")\n",
    "plt.tight_layout()\n",
    "plt.show()"
   ]
  },
  {
   "cell_type": "code",
   "execution_count": null,
   "id": "dc4efb08",
   "metadata": {},
   "outputs": [],
   "source": []
  },
  {
   "cell_type": "markdown",
   "id": "0643a4ed",
   "metadata": {},
   "source": [
    "# End"
   ]
  },
  {
   "cell_type": "markdown",
   "id": "b4b3fb3d",
   "metadata": {},
   "source": []
  }
 ],
 "metadata": {
  "kernelspec": {
   "display_name": "venv",
   "language": "python",
   "name": "python3"
  },
  "language_info": {
   "codemirror_mode": {
    "name": "ipython",
    "version": 3
   },
   "file_extension": ".py",
   "mimetype": "text/x-python",
   "name": "python",
   "nbconvert_exporter": "python",
   "pygments_lexer": "ipython3",
   "version": "3.10.11"
  }
 },
 "nbformat": 4,
 "nbformat_minor": 5
}
